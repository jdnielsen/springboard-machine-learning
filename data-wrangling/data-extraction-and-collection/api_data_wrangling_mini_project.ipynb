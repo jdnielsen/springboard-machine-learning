{
 "cells": [
  {
   "cell_type": "markdown",
   "metadata": {},
   "source": [
    "This exercise will require you to pull some data from the Quandl API. Quandl is currently the most widely used aggregator of financial market data."
   ]
  },
  {
   "cell_type": "markdown",
   "metadata": {},
   "source": [
    "As a first step, you will need to register a free account on the http://www.quandl.com website."
   ]
  },
  {
   "cell_type": "markdown",
   "metadata": {},
   "source": [
    "After you register, you will be provided with a unique API key, that you should store:"
   ]
  },
  {
   "cell_type": "code",
   "execution_count": 1,
   "metadata": {},
   "outputs": [],
   "source": [
    "# Store the API key as a string - according to PEP8, constants are always named in all upper case\n",
    "API_KEY = ''"
   ]
  },
  {
   "cell_type": "markdown",
   "metadata": {},
   "source": [
    "Quandl has a large number of data sources, but, unfortunately, most of them require a Premium subscription. Still, there are also a good number of free datasets."
   ]
  },
  {
   "cell_type": "markdown",
   "metadata": {},
   "source": [
    "For this mini project, we will focus on equities data from the Frankfurt Stock Exhange (FSE), which is available for free. We'll try and analyze the stock prices of a company called Carl Zeiss Meditec, which manufactures tools for eye examinations, as well as medical lasers for laser eye surgery: https://www.zeiss.com/meditec/int/home.html. The company is listed under the stock ticker AFX_X."
   ]
  },
  {
   "cell_type": "markdown",
   "metadata": {},
   "source": [
    "You can find the detailed Quandl API instructions here: https://docs.quandl.com/docs/time-series"
   ]
  },
  {
   "cell_type": "markdown",
   "metadata": {},
   "source": [
    "While there is a dedicated Python package for connecting to the Quandl API, we would prefer that you use the *requests* package, which can be easily downloaded using *pip* or *conda*. You can find the documentation for the package here: http://docs.python-requests.org/en/master/ "
   ]
  },
  {
   "cell_type": "markdown",
   "metadata": {},
   "source": [
    "Finally, apart from the *requests* package, you are encouraged to not use any third party Python packages, such as *pandas*, and instead focus on what's available in the Python Standard Library (the *collections* module might come in handy: https://pymotw.com/3/collections/).\n",
    "Also, since you won't have access to DataFrames, you are encouraged to us Python's native data structures - preferably dictionaries, though some questions can also be answered using lists.\n",
    "You can read more on these data structures here: https://docs.python.org/3/tutorial/datastructures.html"
   ]
  },
  {
   "cell_type": "markdown",
   "metadata": {},
   "source": [
    "Keep in mind that the JSON responses you will be getting from the API map almost one-to-one to Python's dictionaries. Unfortunately, they can be very nested, so make sure you read up on indexing dictionaries in the documentation provided above."
   ]
  },
  {
   "cell_type": "code",
   "execution_count": 2,
   "metadata": {},
   "outputs": [],
   "source": [
    "# First, import the relevant modules\n",
    "import requests\n",
    "import json"
   ]
  },
  {
   "cell_type": "code",
   "execution_count": 3,
   "metadata": {},
   "outputs": [],
   "source": [
    "# Now, call the Quandl API and pull out a small sample of the data (only one day) to get a glimpse\n",
    "# into the JSON structure that will be returned\n",
    "START_DATE = '2020-03-09'\n",
    "END_DATE = '2020-03-09'\n",
    "\n",
    "request_params = { 'api_key': API_KEY, 'start_date': START_DATE, 'end_date': END_DATE }\n",
    "url = 'https://www.quandl.com/api/v3/datasets/FSE/AFX_X/data.json'\n",
    "r = requests.get(url, params=request_params)"
   ]
  },
  {
   "cell_type": "code",
   "execution_count": 5,
   "metadata": {},
   "outputs": [
    {
     "name": "stdout",
     "output_type": "stream",
     "text": [
      "{\n",
      "   \"dataset_data\": {\n",
      "      \"limit\": null,\n",
      "      \"transform\": null,\n",
      "      \"column_index\": null,\n",
      "      \"column_names\": [\n",
      "         \"Date\",\n",
      "         \"Open\",\n",
      "         \"High\",\n",
      "         \"Low\",\n",
      "         \"Close\",\n",
      "         \"Change\",\n",
      "         \"Traded Volume\",\n",
      "         \"Turnover\",\n",
      "         \"Last Price of the Day\",\n",
      "         \"Daily Traded Units\",\n",
      "         \"Daily Turnover\"\n",
      "      ],\n",
      "      \"start_date\": \"2020-03-09\",\n",
      "      \"end_date\": \"2020-03-09\",\n",
      "      \"frequency\": \"daily\",\n",
      "      \"data\": [\n",
      "         [\n",
      "            \"2020-03-09\",\n",
      "            87.65,\n",
      "            92.15,\n",
      "            85.1,\n",
      "            87.2,\n",
      "            null,\n",
      "            392049.0,\n",
      "            34832184.95,\n",
      "            null,\n",
      "            null,\n",
      "            null\n",
      "         ]\n",
      "      ],\n",
      "      \"collapse\": null,\n",
      "      \"order\": null\n",
      "   }\n",
      "}\n"
     ]
    }
   ],
   "source": [
    "# Inspect the JSON structure of the object you created, and take note of how nested it is,\n",
    "# as well as the overall structure\n",
    "json_data = json.loads(r.text)\n",
    "print(json.dumps(json_data, indent=3))"
   ]
  },
  {
   "cell_type": "markdown",
   "metadata": {},
   "source": [
    "These are your tasks for this mini project:\n",
    "\n",
    "1. Collect data from the Franfurt Stock Exchange, for the ticker AFX_X, for the whole year 2017 (keep in mind that the date format is YYYY-MM-DD).\n",
    "2. Convert the returned JSON object into a Python dictionary.\n",
    "3. Calculate what the highest and lowest opening prices were for the stock in this period.\n",
    "4. What was the largest change in any one day (based on High and Low price)?\n",
    "5. What was the largest change between any two days (based on Closing Price)?\n",
    "6. What was the average daily trading volume during this year?\n",
    "7. (Optional) What was the median trading volume during this year. (Note: you may need to implement your own function for calculating the median.)"
   ]
  },
  {
   "cell_type": "code",
   "execution_count": 6,
   "metadata": {},
   "outputs": [],
   "source": [
    "START_DATE = '2017-01-01'\n",
    "END_DATE = '2017-12-31'\n",
    "DATE_INDEX = 0\n",
    "OPEN_INDEX = 1\n",
    "HIGH_INDEX = 2\n",
    "LOW_INDEX = 3\n",
    "CLOSE_INDEX = 4\n",
    "TRADED_VOLUME_INDEX = 6"
   ]
  },
  {
   "cell_type": "code",
   "execution_count": 7,
   "metadata": {},
   "outputs": [],
   "source": [
    "request_params = { 'api_key': API_KEY, 'start_date': START_DATE, 'end_date': END_DATE }\n",
    "url = 'https://www.quandl.com/api/v3/datasets/FSE/AFX_X/data.json'\n",
    "r = requests.get(url, params=request_params)"
   ]
  },
  {
   "cell_type": "code",
   "execution_count": 8,
   "metadata": {},
   "outputs": [
    {
     "name": "stdout",
     "output_type": "stream",
     "text": [
      "['2017-12-29', 51.76, 51.94, 51.45, 51.76, None, 34640.0, 1792304.0, None, None, None]\n"
     ]
    }
   ],
   "source": [
    "json_data = json.loads(r.text)\n",
    "print(json_data['dataset_data']['data'][0])"
   ]
  },
  {
   "cell_type": "code",
   "execution_count": 9,
   "metadata": {},
   "outputs": [
    {
     "name": "stdout",
     "output_type": "stream",
     "text": [
      "51.76\n",
      "51.94\n",
      "51.45\n",
      "51.76\n",
      "34640.0\n"
     ]
    }
   ],
   "source": [
    "open_prices = []\n",
    "daily_highs = []\n",
    "daily_lows = []\n",
    "close_prices = []\n",
    "traded_volumes = []\n",
    "\n",
    "for daily_data in json_data['dataset_data']['data']:\n",
    "    open_prices.append(daily_data[OPEN_INDEX])\n",
    "    daily_highs.append(daily_data[HIGH_INDEX])\n",
    "    daily_lows.append(daily_data[LOW_INDEX])\n",
    "    close_prices.append(daily_data[CLOSE_INDEX])\n",
    "    traded_volumes.append(daily_data[TRADED_VOLUME_INDEX])\n",
    "\n",
    "print(open_prices[0])\n",
    "print(daily_highs[0])\n",
    "print(daily_lows[0])\n",
    "print(close_prices[0])\n",
    "print(traded_volumes[0])"
   ]
  },
  {
   "cell_type": "code",
   "execution_count": 10,
   "metadata": {},
   "outputs": [],
   "source": [
    "def average(values):\n",
    "    val_count = len(values)\n",
    "    val_sum = 0\n",
    "    for v in values:\n",
    "        val_sum += v\n",
    "    return val_sum / val_count"
   ]
  },
  {
   "cell_type": "code",
   "execution_count": 11,
   "metadata": {},
   "outputs": [],
   "source": [
    "def median(values):\n",
    "    values.sort()\n",
    "    val_count = len(values)\n",
    "    if val_count % 2 == 0:\n",
    "        val1 = values[val_count//2]\n",
    "        val2 = values[(val_count//2) - 1]\n",
    "        return (val1 + val2)/2\n",
    "    else:\n",
    "        return values[val_count//2]"
   ]
  },
  {
   "cell_type": "code",
   "execution_count": 12,
   "metadata": {},
   "outputs": [
    {
     "name": "stdout",
     "output_type": "stream",
     "text": [
      "Lowest Open: 34.0\n",
      "Highest Open: 53.11\n"
     ]
    }
   ],
   "source": [
    "# Some values for the opening price in the data were null.  This creates a problem for the sorting method and are irrelevant\n",
    "# to the questions of highest and lowest opening prices, so they are removed first.\n",
    "while None in open_prices:\n",
    "    open_prices.remove(None)\n",
    "\n",
    "sorted_open_prices = sorted(open_prices)\n",
    "lowest_open = sorted_open_prices[0]\n",
    "highest_open = sorted_open_prices[-1]\n",
    "print('Lowest Open: ' + str(lowest_open))\n",
    "print('Highest Open: ' + str(highest_open))"
   ]
  },
  {
   "cell_type": "code",
   "execution_count": 13,
   "metadata": {},
   "outputs": [
    {
     "name": "stdout",
     "output_type": "stream",
     "text": [
      "Greatest daily change in price: 2.8100000000000023\n"
     ]
    }
   ],
   "source": [
    "greatest_daily_change = 0\n",
    "for i in range(len(daily_highs)):\n",
    "    daily_change = daily_highs[i] - daily_lows[i]\n",
    "    if daily_change > greatest_daily_change:\n",
    "        greatest_daily_change = daily_change\n",
    "print('Greatest daily change in price: ' + str(greatest_daily_change))"
   ]
  },
  {
   "cell_type": "code",
   "execution_count": 14,
   "metadata": {},
   "outputs": [
    {
     "name": "stdout",
     "output_type": "stream",
     "text": [
      "Greatest change in closing price between two days: 0.1599999999999966\n"
     ]
    }
   ],
   "source": [
    "greatest_close_price_change = 0\n",
    "for i in range(len(close_prices) - 1):\n",
    "    this_days_close = close_prices[0]\n",
    "    next_days_close = close_prices[1]\n",
    "    close_price_change = abs(this_days_close - next_days_close)\n",
    "    if close_price_change > greatest_close_price_change:\n",
    "        greatest_close_price_change = close_price_change\n",
    "print('Greatest change in closing price between two days: ' + str(greatest_close_price_change))"
   ]
  },
  {
   "cell_type": "code",
   "execution_count": 15,
   "metadata": {},
   "outputs": [
    {
     "name": "stdout",
     "output_type": "stream",
     "text": [
      "Average daily trading volume over year: 89124.33725490196\n",
      "Median trading volume over year: 76286.0\n"
     ]
    }
   ],
   "source": [
    "print('Average daily trading volume over year: ' + str(average(traded_volumes)))\n",
    "print('Median trading volume over year: ' + str(median(traded_volumes)))"
   ]
  }
 ],
 "metadata": {
  "kernelspec": {
   "display_name": "Python 3",
   "language": "python",
   "name": "python3"
  },
  "language_info": {
   "codemirror_mode": {
    "name": "ipython",
    "version": 3
   },
   "file_extension": ".py",
   "mimetype": "text/x-python",
   "name": "python",
   "nbconvert_exporter": "python",
   "pygments_lexer": "ipython3",
   "version": "3.7.0"
  }
 },
 "nbformat": 4,
 "nbformat_minor": 2
}
